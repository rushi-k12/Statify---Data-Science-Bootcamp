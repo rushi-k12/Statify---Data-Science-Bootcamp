{
  "cells": [
    {
      "cell_type": "markdown",
      "metadata": {
        "id": "TuGjAwOmOIe3"
      },
      "source": [
        "# NumPy and Pandas Practice Problems (Assignment_1)\n",
        "\n",
        "---\n",
        "\n",
        "\n"
      ]
    },
    {
      "cell_type": "markdown",
      "metadata": {
        "id": "Uyn3W0jxfyI5"
      },
      "source": [
        "# NumPy"
      ]
    },
    {
      "cell_type": "markdown",
      "metadata": {
        "id": "m1d_jKMDO8nE"
      },
      "source": [
        "## 1. Import libraries and Create an array using Numpy\n",
        "\n",
        "      Expected output:-\n",
        "      [0 1 2 2 3 4 5 10]"
      ]
    },
    {
      "cell_type": "code",
      "execution_count": null,
      "metadata": {
        "id": "Iqa8H5ojO8Ko",
        "colab": {
          "base_uri": "https://localhost:8080/"
        },
        "outputId": "30fe9138-9a48-4f8e-a7c2-3302bdd644fb"
      },
      "outputs": [
        {
          "output_type": "stream",
          "name": "stdout",
          "text": [
            "[ 0  1  2  2  3  4  5 10]\n"
          ]
        }
      ],
      "source": [
        "## YOUR ANSWER:-\n",
        "import numpy as np\n",
        "array = np.array([0, 1, 2, 2, 3, 4, 5, 10])\n",
        "print(array)"
      ]
    },
    {
      "cell_type": "markdown",
      "metadata": {
        "id": "BNSbxqTfQtSX"
      },
      "source": [
        "\n",
        "## 2. Using NumPy get the unique elements of the array\n",
        "\n",
        "        Expected output :-   \n",
        "        [0 1 2 3 4 5 10]\n",
        "\n"
      ]
    },
    {
      "cell_type": "code",
      "execution_count": null,
      "metadata": {
        "id": "yoo9QN3fOjmG",
        "colab": {
          "base_uri": "https://localhost:8080/"
        },
        "outputId": "88c301a4-b82d-4eac-dcdf-579f64a6c313"
      },
      "outputs": [
        {
          "output_type": "stream",
          "name": "stdout",
          "text": [
            "[ 0  1  2  3  4  5 10]\n"
          ]
        }
      ],
      "source": [
        "## Your Answer :-\n",
        "unique_elements = np.unique(array)\n",
        "print(unique_elements)"
      ]
    },
    {
      "cell_type": "markdown",
      "metadata": {
        "id": "mBrWVvEUoF3S"
      },
      "source": [
        "## 3. Generate an array of 5 equally spaced points between 0 and 20.\n",
        "\n",
        "      Expected output :- [0 5. 10. 15. 20.]\n"
      ]
    },
    {
      "cell_type": "code",
      "execution_count": null,
      "metadata": {
        "id": "bthLooTxqPxW",
        "colab": {
          "base_uri": "https://localhost:8080/"
        },
        "outputId": "6b822b4d-cca6-41bd-9bb4-25415cb0415c"
      },
      "outputs": [
        {
          "output_type": "stream",
          "name": "stdout",
          "text": [
            "[ 0.  5. 10. 15. 20.]\n"
          ]
        }
      ],
      "source": [
        "## Your Answer :-\n",
        "spaced_points = np.linspace(0, 20, 5)\n",
        "print(spaced_points)"
      ]
    },
    {
      "cell_type": "markdown",
      "metadata": {
        "id": "vIDjDOL-Ya1F"
      },
      "source": [
        "## 4. Create a 2D array and sort it along first axis and last axis\n",
        "\n",
        "Sample array-[[4,9],[2,1]]\n",
        "\n",
        "    Expected output :-\n",
        "\n",
        "    [[2,1],\n",
        "    [4,9]]\n",
        "\n",
        "    [[4,9],\n",
        "    [1,2]]"
      ]
    },
    {
      "cell_type": "code",
      "execution_count": null,
      "metadata": {
        "id": "tEQs7XgQQs8-",
        "colab": {
          "base_uri": "https://localhost:8080/"
        },
        "outputId": "c3eee799-1bb4-4470-cee4-ef259c3ec8f4"
      },
      "outputs": [
        {
          "output_type": "stream",
          "name": "stdout",
          "text": [
            "[[2 1]\n",
            " [4 9]]\n",
            "[[4 9]\n",
            " [1 2]]\n"
          ]
        }
      ],
      "source": [
        "## Your Answer:-\n",
        "array_2d = np.array([[4, 9], [2, 1]])\n",
        "sorted_first_axis = np.sort(array_2d, axis=0)\n",
        "sorted_last_axis = np.sort(array_2d, axis=1)\n",
        "print(sorted_first_axis)\n",
        "print(sorted_last_axis)"
      ]
    },
    {
      "cell_type": "markdown",
      "metadata": {
        "id": "LnCJerCvYa6z"
      },
      "source": [
        "## 5. Create a NumPy 1D array with numbers from 1 to 10 using np.arange()\n",
        "      Expected output :-\n",
        "      [1,2,3,4,5,6,7,8,9,10]"
      ]
    },
    {
      "cell_type": "code",
      "execution_count": null,
      "metadata": {
        "id": "xK1O7Xn3kP6G",
        "colab": {
          "base_uri": "https://localhost:8080/"
        },
        "outputId": "ae169a6d-ac65-4e21-859c-5bd8cc02eb13"
      },
      "outputs": [
        {
          "output_type": "stream",
          "name": "stdout",
          "text": [
            "[ 1  2  3  4  5  6  7  8  9 10]\n"
          ]
        }
      ],
      "source": [
        "## Your Answer :-\n",
        "array_1d = np.arange(1, 11)\n",
        "print(array_1d)"
      ]
    },
    {
      "cell_type": "markdown",
      "metadata": {
        "id": "BG2tXIGmYa-M"
      },
      "source": [
        "## 6. Reshape the previous array into 2x5 and perform element-wise multiplication with the sorted array (first axis)\n",
        "\n",
        "Arrays= [[2,1],[4,9]]   ;  [1,2,3,4,5,6,7,8,9,10]\n",
        "\n",
        "        Expected output :-\n",
        "\n",
        "        [[ 1,  2,  3,  4,  5],\n",
        "        [ 6,  7,  8,  9, 10]] *(Reshaped array)*\n",
        "        \n",
        "        [[  8,  11,  14,  17,  20],\n",
        "        [ 58,  71,  84,  97, 110]] *(Multplied array)*\n",
        "\n",
        "\n"
      ]
    },
    {
      "cell_type": "code",
      "execution_count": null,
      "metadata": {
        "id": "Aocm8L00kWoP",
        "colab": {
          "base_uri": "https://localhost:8080/",
          "height": 219
        },
        "outputId": "dca578fd-d3d4-4360-dc12-3dfd8c8a1555"
      },
      "outputs": [
        {
          "output_type": "error",
          "ename": "ValueError",
          "evalue": "operands could not be broadcast together with shapes (2,5) (2,2) ",
          "traceback": [
            "\u001b[0;31m---------------------------------------------------------------------------\u001b[0m",
            "\u001b[0;31mValueError\u001b[0m                                Traceback (most recent call last)",
            "\u001b[0;32m<ipython-input-6-eecc1fdc63a5>\u001b[0m in \u001b[0;36m<cell line: 6>\u001b[0;34m()\u001b[0m\n\u001b[1;32m      4\u001b[0m \u001b[0msorted_array_first_axis\u001b[0m \u001b[0;34m=\u001b[0m \u001b[0mnp\u001b[0m\u001b[0;34m.\u001b[0m\u001b[0msort\u001b[0m\u001b[0;34m(\u001b[0m\u001b[0msorted_array\u001b[0m\u001b[0;34m,\u001b[0m \u001b[0maxis\u001b[0m\u001b[0;34m=\u001b[0m\u001b[0;36m0\u001b[0m\u001b[0;34m)\u001b[0m\u001b[0;34m\u001b[0m\u001b[0;34m\u001b[0m\u001b[0m\n\u001b[1;32m      5\u001b[0m \u001b[0;34m\u001b[0m\u001b[0m\n\u001b[0;32m----> 6\u001b[0;31m \u001b[0mmultiplied_array\u001b[0m \u001b[0;34m=\u001b[0m \u001b[0mreshaped_array\u001b[0m \u001b[0;34m*\u001b[0m \u001b[0msorted_array_first_axis\u001b[0m\u001b[0;34m\u001b[0m\u001b[0;34m\u001b[0m\u001b[0m\n\u001b[0m\u001b[1;32m      7\u001b[0m \u001b[0mprint\u001b[0m\u001b[0;34m(\u001b[0m\u001b[0mreshaped_array\u001b[0m\u001b[0;34m)\u001b[0m\u001b[0;34m\u001b[0m\u001b[0;34m\u001b[0m\u001b[0m\n\u001b[1;32m      8\u001b[0m \u001b[0mprint\u001b[0m\u001b[0;34m(\u001b[0m\u001b[0mmultiplied_array\u001b[0m\u001b[0;34m)\u001b[0m\u001b[0;34m\u001b[0m\u001b[0;34m\u001b[0m\u001b[0m\n",
            "\u001b[0;31mValueError\u001b[0m: operands could not be broadcast together with shapes (2,5) (2,2) "
          ]
        }
      ],
      "source": [
        "## Your Answer\n",
        "reshaped_array = array_1d.reshape(2, 5)\n",
        "sorted_array = np.array([[2, 1], [4, 9]])\n",
        "sorted_array_first_axis = np.sort(sorted_array, axis=0)\n",
        "\n",
        "multiplied_array = reshaped_array * sorted_array_first_axis\n",
        "print(reshaped_array)\n",
        "print(multiplied_array)"
      ]
    },
    {
      "cell_type": "markdown",
      "metadata": {
        "id": "HPPu7hoHhcqe"
      },
      "source": [
        "# 7. From the Multiplied array get the elements as follows :-\n",
        "\n",
        "Array=  [[  8,  11,  14,  17,  20],\n",
        "    [ 58,  71,  84,  97, 110]]\n",
        "\n",
        "          Expected output :-\n",
        "          A. [14]\n",
        "          B. [14,17]\n",
        "          C. [84,97]\n",
        "          D. [[14,17],\n",
        "             [84,97]]\n",
        "\n",
        "\n",
        "\n",
        "\n",
        "\n"
      ]
    },
    {
      "cell_type": "code",
      "execution_count": null,
      "metadata": {
        "id": "xDf-TNCXkbj-",
        "colab": {
          "base_uri": "https://localhost:8080/"
        },
        "outputId": "f4328b4e-534e-478c-8c37-e617a3e0ba50"
      },
      "outputs": [
        {
          "output_type": "stream",
          "name": "stdout",
          "text": [
            "A: 14\n",
            "B: [14 17]\n",
            "C: [84 97]\n",
            "D: [[14 17]\n",
            " [84 97]]\n"
          ]
        }
      ],
      "source": [
        "## Your Answer :-\n",
        "multiplied_array = np.array([[ 8, 11, 14, 17, 20], [ 58, 71, 84, 97, 110]])\n",
        "\n",
        "A = multiplied_array[0, 2]\n",
        "B = multiplied_array[0, 2:4]\n",
        "C = multiplied_array[1, 2:4]\n",
        "D = multiplied_array[:, 2:4]\n",
        "\n",
        "print(\"A:\", A)\n",
        "print(\"B:\", B)\n",
        "print(\"C:\", C)\n",
        "print(\"D:\", D)"
      ]
    },
    {
      "cell_type": "markdown",
      "metadata": {
        "id": "CsYF0RuQmT6o"
      },
      "source": [
        "## 8. Concatenate the original Array in previous one along with array formed in D along axis=1.\n",
        "\n",
        "      Expected output :-\n",
        "      conc_arr:\n",
        "      [[  8  11  14  17  20   2   3]\n",
        "      [ 58  71  84  97 110   8   9]]\n"
      ]
    },
    {
      "cell_type": "code",
      "execution_count": null,
      "metadata": {
        "id": "JMPSG7YtmTnK",
        "colab": {
          "base_uri": "https://localhost:8080/"
        },
        "outputId": "7d3d16ab-9483-440f-ad7d-dbd01a510527"
      },
      "outputs": [
        {
          "output_type": "stream",
          "name": "stdout",
          "text": [
            "[[  8  11  14  17  20  14  17]\n",
            " [ 58  71  84  97 110  84  97]]\n"
          ]
        }
      ],
      "source": [
        "# Your Answer\n",
        "concatenated_array = np.concatenate((multiplied_array, D), axis=1)\n",
        "print(concatenated_array)"
      ]
    },
    {
      "cell_type": "markdown",
      "metadata": {
        "id": "xCiLKYsUkf7f"
      },
      "source": [
        "## 9. Write a NumPy program to count the occurrence of a specified item in a given NumPy array.\n",
        "\n",
        "\n",
        "\n",
        "        Original array:\n",
        "        [0,0,0,0,1,2,2,2,2,2,2,2,3,3,3]\n",
        "\n",
        "        Expected Output:-\n",
        "        [4,1,7,3]"
      ]
    },
    {
      "cell_type": "code",
      "execution_count": null,
      "metadata": {
        "id": "DEATIpPWlduf",
        "colab": {
          "base_uri": "https://localhost:8080/"
        },
        "outputId": "fb36cd45-acd4-4237-e133-c1804ea30da5"
      },
      "outputs": [
        {
          "output_type": "stream",
          "name": "stdout",
          "text": [
            "[4, 1, 7, 3]\n"
          ]
        }
      ],
      "source": [
        "## Your Answer :-\n",
        "original_array = np.array([0,0,0,0,1,2,2,2,2,2,2,2,3,3,3])\n",
        "unique, counts = np.unique(original_array, return_counts=True)\n",
        "occurrence_count = dict(zip(unique, counts))\n",
        "print(list(occurrence_count.values()))"
      ]
    },
    {
      "cell_type": "markdown",
      "metadata": {
        "id": "8_H_Kjv9mHcA"
      },
      "source": [
        "### 10. Write a NumPy program to remove nan values from a given array.\n",
        "\n",
        "\n",
        "\n",
        "        Original array:\n",
        "        [200. 300. nan nan nan 700.]\n",
        "\n",
        "        After removing nan values:\n",
        "        [200. 300. 700.]"
      ]
    },
    {
      "cell_type": "code",
      "execution_count": null,
      "metadata": {
        "id": "Y43alZmcsJfN",
        "colab": {
          "base_uri": "https://localhost:8080/"
        },
        "outputId": "4b0d1e4d-d33b-4921-b662-f116b627818a"
      },
      "outputs": [
        {
          "output_type": "stream",
          "name": "stdout",
          "text": [
            "[200. 300. 700.]\n"
          ]
        }
      ],
      "source": [
        "## Your Answer :-\n",
        "original_array_with_nan = np.array([200., 300., np.nan, np.nan, np.nan, 700.])\n",
        "cleaned_array = original_array_with_nan[~np.isnan(original_array_with_nan)]\n",
        "print(cleaned_array)"
      ]
    },
    {
      "cell_type": "markdown",
      "metadata": {
        "id": "jU5dgovHgsYn"
      },
      "source": [
        "## 11. Write a NumPy program to find indices of elements equal to zero in a NumPy array.\n",
        "\n",
        "      Sample Output:\n",
        "\n",
        "      Original array:\n",
        "      [1 0 2 0 3 0 4 5 6 7 8]\n",
        "\n",
        "      Indices of elements equal to zero of the said array:\n",
        "      [1 3 5]"
      ]
    },
    {
      "cell_type": "code",
      "execution_count": null,
      "metadata": {
        "id": "4r8JBuAqh0Y8",
        "colab": {
          "base_uri": "https://localhost:8080/"
        },
        "outputId": "605e7046-500d-4490-8829-e488757aeff0"
      },
      "outputs": [
        {
          "output_type": "stream",
          "name": "stdout",
          "text": [
            "[1 3 5]\n"
          ]
        }
      ],
      "source": [
        "## Your Answer\n",
        "original_array = np.array([1, 0, 2, 0, 3, 0, 4, 5, 6, 7, 8])\n",
        "zero_indices = np.where(original_array == 0)\n",
        "print(zero_indices[0])"
      ]
    },
    {
      "cell_type": "markdown",
      "metadata": {
        "id": "eU6Q9QSJiqQm"
      },
      "source": [
        "\n",
        "\n",
        "---\n",
        "\n"
      ]
    },
    {
      "cell_type": "markdown",
      "metadata": {
        "id": "MP772HXuh3mD"
      },
      "source": [
        "\n",
        "\n",
        "# Pandas\n"
      ]
    },
    {
      "cell_type": "markdown",
      "metadata": {
        "id": "Z9nMbWCEjoAT"
      },
      "source": [
        "### 1. Load CSV file and print the first 10 rows in a good format ###"
      ]
    },
    {
      "cell_type": "code",
      "execution_count": null,
      "metadata": {
        "id": "PMQRvTZsh3X1",
        "colab": {
          "base_uri": "https://localhost:8080/"
        },
        "outputId": "080e3309-746f-458f-b055-d308a91d80cc"
      },
      "outputs": [
        {
          "output_type": "stream",
          "name": "stdout",
          "text": [
            "      budget                                             genres  \\\n",
            "0  237000000  [{\"id\": 28, \"name\": \"Action\"}, {\"id\": 12, \"nam...   \n",
            "1  300000000  [{\"id\": 12, \"name\": \"Adventure\"}, {\"id\": 14, \"...   \n",
            "2  245000000  [{\"id\": 28, \"name\": \"Action\"}, {\"id\": 12, \"nam...   \n",
            "3  250000000  [{\"id\": 28, \"name\": \"Action\"}, {\"id\": 80, \"nam...   \n",
            "4  260000000  [{\"id\": 28, \"name\": \"Action\"}, {\"id\": 12, \"nam...   \n",
            "5  258000000  [{\"id\": 14, \"name\": \"Fantasy\"}, {\"id\": 28, \"na...   \n",
            "6  260000000  [{\"id\": 16, \"name\": \"Animation\"}, {\"id\": 10751...   \n",
            "7  280000000  [{\"id\": 28, \"name\": \"Action\"}, {\"id\": 12, \"nam...   \n",
            "8  250000000  [{\"id\": 12, \"name\": \"Adventure\"}, {\"id\": 14, \"...   \n",
            "9  250000000  [{\"id\": 28, \"name\": \"Action\"}, {\"id\": 12, \"nam...   \n",
            "\n",
            "                                            homepage      id  \\\n",
            "0                        http://www.avatarmovie.com/   19995   \n",
            "1       http://disney.go.com/disneypictures/pirates/     285   \n",
            "2        http://www.sonypictures.com/movies/spectre/  206647   \n",
            "3                 http://www.thedarkknightrises.com/   49026   \n",
            "4               http://movies.disney.com/john-carter   49529   \n",
            "5    http://www.sonypictures.com/movies/spider-man3/     559   \n",
            "6       http://disney.go.com/disneypictures/tangled/   38757   \n",
            "7  http://marvel.com/movies/movie/193/avengers_ag...   99861   \n",
            "8  http://harrypotter.warnerbros.com/harrypottera...     767   \n",
            "9       http://www.batmanvsupermandawnofjustice.com/  209112   \n",
            "\n",
            "                                            keywords original_language  \\\n",
            "0  [{\"id\": 1463, \"name\": \"culture clash\"}, {\"id\":...                en   \n",
            "1  [{\"id\": 270, \"name\": \"ocean\"}, {\"id\": 726, \"na...                en   \n",
            "2  [{\"id\": 470, \"name\": \"spy\"}, {\"id\": 818, \"name...                en   \n",
            "3  [{\"id\": 849, \"name\": \"dc comics\"}, {\"id\": 853,...                en   \n",
            "4  [{\"id\": 818, \"name\": \"based on novel\"}, {\"id\":...                en   \n",
            "5  [{\"id\": 851, \"name\": \"dual identity\"}, {\"id\": ...                en   \n",
            "6  [{\"id\": 1562, \"name\": \"hostage\"}, {\"id\": 2343,...                en   \n",
            "7  [{\"id\": 8828, \"name\": \"marvel comic\"}, {\"id\": ...                en   \n",
            "8  [{\"id\": 616, \"name\": \"witch\"}, {\"id\": 2343, \"n...                en   \n",
            "9  [{\"id\": 849, \"name\": \"dc comics\"}, {\"id\": 7002...                en   \n",
            "\n",
            "                             original_title  \\\n",
            "0                                    Avatar   \n",
            "1  Pirates of the Caribbean: At World's End   \n",
            "2                                   Spectre   \n",
            "3                     The Dark Knight Rises   \n",
            "4                               John Carter   \n",
            "5                              Spider-Man 3   \n",
            "6                                   Tangled   \n",
            "7                   Avengers: Age of Ultron   \n",
            "8    Harry Potter and the Half-Blood Prince   \n",
            "9        Batman v Superman: Dawn of Justice   \n",
            "\n",
            "                                            overview  popularity  \\\n",
            "0  In the 22nd century, a paraplegic Marine is di...  150.437577   \n",
            "1  Captain Barbossa, long believed to be dead, ha...  139.082615   \n",
            "2  A cryptic message from Bond’s past sends him o...  107.376788   \n",
            "3  Following the death of District Attorney Harve...  112.312950   \n",
            "4  John Carter is a war-weary, former military ca...   43.926995   \n",
            "5  The seemingly invincible Spider-Man goes up ag...  115.699814   \n",
            "6  When the kingdom's most wanted-and most charmi...   48.681969   \n",
            "7  When Tony Stark tries to jumpstart a dormant p...  134.279229   \n",
            "8  As Harry begins his sixth year at Hogwarts, he...   98.885637   \n",
            "9  Fearing the actions of a god-like Super Hero l...  155.790452   \n",
            "\n",
            "                                production_companies  \\\n",
            "0  [{\"name\": \"Ingenious Film Partners\", \"id\": 289...   \n",
            "1  [{\"name\": \"Walt Disney Pictures\", \"id\": 2}, {\"...   \n",
            "2  [{\"name\": \"Columbia Pictures\", \"id\": 5}, {\"nam...   \n",
            "3  [{\"name\": \"Legendary Pictures\", \"id\": 923}, {\"...   \n",
            "4        [{\"name\": \"Walt Disney Pictures\", \"id\": 2}]   \n",
            "5  [{\"name\": \"Columbia Pictures\", \"id\": 5}, {\"nam...   \n",
            "6  [{\"name\": \"Walt Disney Pictures\", \"id\": 2}, {\"...   \n",
            "7  [{\"name\": \"Marvel Studios\", \"id\": 420}, {\"name...   \n",
            "8  [{\"name\": \"Warner Bros.\", \"id\": 6194}, {\"name\"...   \n",
            "9  [{\"name\": \"DC Comics\", \"id\": 429}, {\"name\": \"A...   \n",
            "\n",
            "                                production_countries release_date     revenue  \\\n",
            "0  [{\"iso_3166_1\": \"US\", \"name\": \"United States o...   2009-12-10  2787965087   \n",
            "1  [{\"iso_3166_1\": \"US\", \"name\": \"United States o...   2007-05-19   961000000   \n",
            "2  [{\"iso_3166_1\": \"GB\", \"name\": \"United Kingdom\"...   2015-10-26   880674609   \n",
            "3  [{\"iso_3166_1\": \"US\", \"name\": \"United States o...   2012-07-16  1084939099   \n",
            "4  [{\"iso_3166_1\": \"US\", \"name\": \"United States o...   2012-03-07   284139100   \n",
            "5  [{\"iso_3166_1\": \"US\", \"name\": \"United States o...   2007-05-01   890871626   \n",
            "6  [{\"iso_3166_1\": \"US\", \"name\": \"United States o...   2010-11-24   591794936   \n",
            "7  [{\"iso_3166_1\": \"US\", \"name\": \"United States o...   2015-04-22  1405403694   \n",
            "8  [{\"iso_3166_1\": \"GB\", \"name\": \"United Kingdom\"...   2009-07-07   933959197   \n",
            "9  [{\"iso_3166_1\": \"US\", \"name\": \"United States o...   2016-03-23   873260194   \n",
            "\n",
            "   runtime                                   spoken_languages    status  \\\n",
            "0    162.0  [{\"iso_639_1\": \"en\", \"name\": \"English\"}, {\"iso...  Released   \n",
            "1    169.0           [{\"iso_639_1\": \"en\", \"name\": \"English\"}]  Released   \n",
            "2    148.0  [{\"iso_639_1\": \"fr\", \"name\": \"Fran\\u00e7ais\"},...  Released   \n",
            "3    165.0           [{\"iso_639_1\": \"en\", \"name\": \"English\"}]  Released   \n",
            "4    132.0           [{\"iso_639_1\": \"en\", \"name\": \"English\"}]  Released   \n",
            "5    139.0  [{\"iso_639_1\": \"en\", \"name\": \"English\"}, {\"iso...  Released   \n",
            "6    100.0           [{\"iso_639_1\": \"en\", \"name\": \"English\"}]  Released   \n",
            "7    141.0           [{\"iso_639_1\": \"en\", \"name\": \"English\"}]  Released   \n",
            "8    153.0           [{\"iso_639_1\": \"en\", \"name\": \"English\"}]  Released   \n",
            "9    151.0           [{\"iso_639_1\": \"en\", \"name\": \"English\"}]  Released   \n",
            "\n",
            "                                          tagline  \\\n",
            "0                     Enter the World of Pandora.   \n",
            "1  At the end of the world, the adventure begins.   \n",
            "2                           A Plan No One Escapes   \n",
            "3                                 The Legend Ends   \n",
            "4            Lost in our world, found in another.   \n",
            "5                              The battle within.   \n",
            "6        They're taking adventure to new lengths.   \n",
            "7                             A New Age Has Come.   \n",
            "8                           Dark Secrets Revealed   \n",
            "9                              Justice or revenge   \n",
            "\n",
            "                                      title  vote_average  vote_count  \n",
            "0                                    Avatar           7.2       11800  \n",
            "1  Pirates of the Caribbean: At World's End           6.9        4500  \n",
            "2                                   Spectre           6.3        4466  \n",
            "3                     The Dark Knight Rises           7.6        9106  \n",
            "4                               John Carter           6.1        2124  \n",
            "5                              Spider-Man 3           5.9        3576  \n",
            "6                                   Tangled           7.4        3330  \n",
            "7                   Avengers: Age of Ultron           7.3        6767  \n",
            "8    Harry Potter and the Half-Blood Prince           7.4        5293  \n",
            "9        Batman v Superman: Dawn of Justice           5.7        7004  \n"
          ]
        }
      ],
      "source": [
        "import pandas as pd\n",
        "movies = pd.read_csv('movies.csv')\n",
        "print(movies.head(10))"
      ]
    },
    {
      "cell_type": "markdown",
      "metadata": {
        "id": "Z9E6tvCHh6Fy"
      },
      "source": [
        "### 2. Calculate the total number of null entries per column"
      ]
    },
    {
      "cell_type": "code",
      "execution_count": null,
      "metadata": {
        "id": "WWh7hK9Lh4J1",
        "colab": {
          "base_uri": "https://localhost:8080/"
        },
        "outputId": "ec3907bd-4e2c-4dab-abb5-dc356ee16e98"
      },
      "outputs": [
        {
          "output_type": "stream",
          "name": "stdout",
          "text": [
            "budget                     0\n",
            "genres                     0\n",
            "homepage                3091\n",
            "id                         0\n",
            "keywords                   0\n",
            "original_language          0\n",
            "original_title             0\n",
            "overview                   3\n",
            "popularity                 0\n",
            "production_companies       0\n",
            "production_countries       0\n",
            "release_date               1\n",
            "revenue                    0\n",
            "runtime                    2\n",
            "spoken_languages           0\n",
            "status                     0\n",
            "tagline                  844\n",
            "title                      0\n",
            "vote_average               0\n",
            "vote_count                 0\n",
            "dtype: int64\n"
          ]
        }
      ],
      "source": [
        "## Your Answer\n",
        "null_entries= movies.isnull().sum()\n",
        "print(null_entries)"
      ]
    },
    {
      "cell_type": "markdown",
      "metadata": {
        "id": "_MrJMojxl3LX"
      },
      "source": [
        "### 3. Drop the column having more than 30% null entries"
      ]
    },
    {
      "cell_type": "code",
      "execution_count": null,
      "metadata": {
        "id": "BC4lgLxinqN0",
        "colab": {
          "base_uri": "https://localhost:8080/"
        },
        "outputId": "ffb84bf9-e02b-422a-e979-6cbadf982b1f"
      },
      "outputs": [
        {
          "output_type": "stream",
          "name": "stdout",
          "text": [
            "      budget                                             genres  \\\n",
            "0  237000000  [{\"id\": 28, \"name\": \"Action\"}, {\"id\": 12, \"nam...   \n",
            "1  300000000  [{\"id\": 12, \"name\": \"Adventure\"}, {\"id\": 14, \"...   \n",
            "2  245000000  [{\"id\": 28, \"name\": \"Action\"}, {\"id\": 12, \"nam...   \n",
            "3  250000000  [{\"id\": 28, \"name\": \"Action\"}, {\"id\": 80, \"nam...   \n",
            "4  260000000  [{\"id\": 28, \"name\": \"Action\"}, {\"id\": 12, \"nam...   \n",
            "\n",
            "                                       homepage      id  \\\n",
            "0                   http://www.avatarmovie.com/   19995   \n",
            "1  http://disney.go.com/disneypictures/pirates/     285   \n",
            "2   http://www.sonypictures.com/movies/spectre/  206647   \n",
            "3            http://www.thedarkknightrises.com/   49026   \n",
            "4          http://movies.disney.com/john-carter   49529   \n",
            "\n",
            "                                            keywords original_language  \\\n",
            "0  [{\"id\": 1463, \"name\": \"culture clash\"}, {\"id\":...                en   \n",
            "1  [{\"id\": 270, \"name\": \"ocean\"}, {\"id\": 726, \"na...                en   \n",
            "2  [{\"id\": 470, \"name\": \"spy\"}, {\"id\": 818, \"name...                en   \n",
            "3  [{\"id\": 849, \"name\": \"dc comics\"}, {\"id\": 853,...                en   \n",
            "4  [{\"id\": 818, \"name\": \"based on novel\"}, {\"id\":...                en   \n",
            "\n",
            "                             original_title  \\\n",
            "0                                    Avatar   \n",
            "1  Pirates of the Caribbean: At World's End   \n",
            "2                                   Spectre   \n",
            "3                     The Dark Knight Rises   \n",
            "4                               John Carter   \n",
            "\n",
            "                                            overview  popularity  \\\n",
            "0  In the 22nd century, a paraplegic Marine is di...  150.437577   \n",
            "1  Captain Barbossa, long believed to be dead, ha...  139.082615   \n",
            "2  A cryptic message from Bond’s past sends him o...  107.376788   \n",
            "3  Following the death of District Attorney Harve...  112.312950   \n",
            "4  John Carter is a war-weary, former military ca...   43.926995   \n",
            "\n",
            "                                production_companies  \\\n",
            "0  [{\"name\": \"Ingenious Film Partners\", \"id\": 289...   \n",
            "1  [{\"name\": \"Walt Disney Pictures\", \"id\": 2}, {\"...   \n",
            "2  [{\"name\": \"Columbia Pictures\", \"id\": 5}, {\"nam...   \n",
            "3  [{\"name\": \"Legendary Pictures\", \"id\": 923}, {\"...   \n",
            "4        [{\"name\": \"Walt Disney Pictures\", \"id\": 2}]   \n",
            "\n",
            "                                production_countries release_date     revenue  \\\n",
            "0  [{\"iso_3166_1\": \"US\", \"name\": \"United States o...   2009-12-10  2787965087   \n",
            "1  [{\"iso_3166_1\": \"US\", \"name\": \"United States o...   2007-05-19   961000000   \n",
            "2  [{\"iso_3166_1\": \"GB\", \"name\": \"United Kingdom\"...   2015-10-26   880674609   \n",
            "3  [{\"iso_3166_1\": \"US\", \"name\": \"United States o...   2012-07-16  1084939099   \n",
            "4  [{\"iso_3166_1\": \"US\", \"name\": \"United States o...   2012-03-07   284139100   \n",
            "\n",
            "   runtime                                   spoken_languages    status  \\\n",
            "0    162.0  [{\"iso_639_1\": \"en\", \"name\": \"English\"}, {\"iso...  Released   \n",
            "1    169.0           [{\"iso_639_1\": \"en\", \"name\": \"English\"}]  Released   \n",
            "2    148.0  [{\"iso_639_1\": \"fr\", \"name\": \"Fran\\u00e7ais\"},...  Released   \n",
            "3    165.0           [{\"iso_639_1\": \"en\", \"name\": \"English\"}]  Released   \n",
            "4    132.0           [{\"iso_639_1\": \"en\", \"name\": \"English\"}]  Released   \n",
            "\n",
            "                                          tagline  \\\n",
            "0                     Enter the World of Pandora.   \n",
            "1  At the end of the world, the adventure begins.   \n",
            "2                           A Plan No One Escapes   \n",
            "3                                 The Legend Ends   \n",
            "4            Lost in our world, found in another.   \n",
            "\n",
            "                                      title  vote_average  vote_count  \n",
            "0                                    Avatar           7.2       11800  \n",
            "1  Pirates of the Caribbean: At World's End           6.9        4500  \n",
            "2                                   Spectre           6.3        4466  \n",
            "3                     The Dark Knight Rises           7.6        9106  \n",
            "4                               John Carter           6.1        2124  \n"
          ]
        }
      ],
      "source": [
        "## Your Answer\n",
        "threshold = 0.3 * len(movies)\n",
        "movies_dropped = movies.dropna(thresh=threshold, axis=1)\n",
        "print(movies_dropped.head())"
      ]
    },
    {
      "cell_type": "markdown",
      "metadata": {
        "id": "o7chfJfNntzA"
      },
      "source": [
        "### 4. Discover the types of each columns and modify release_date to datetime64[ns] data type"
      ]
    },
    {
      "cell_type": "code",
      "execution_count": null,
      "metadata": {
        "id": "yGi1bMOdoFvr",
        "colab": {
          "base_uri": "https://localhost:8080/"
        },
        "outputId": "52e8ee41-ff3e-4b41-f658-94d2d938d88d"
      },
      "outputs": [
        {
          "output_type": "stream",
          "name": "stdout",
          "text": [
            "budget                           int64\n",
            "genres                          object\n",
            "homepage                        object\n",
            "id                               int64\n",
            "keywords                        object\n",
            "original_language               object\n",
            "original_title                  object\n",
            "overview                        object\n",
            "popularity                     float64\n",
            "production_companies            object\n",
            "production_countries            object\n",
            "release_date            datetime64[ns]\n",
            "revenue                          int64\n",
            "runtime                        float64\n",
            "spoken_languages                object\n",
            "status                          object\n",
            "tagline                         object\n",
            "title                           object\n",
            "vote_average                   float64\n",
            "vote_count                       int64\n",
            "dtype: object\n"
          ]
        }
      ],
      "source": [
        "## Your Answeprint(movies.dtypes)\n",
        "movies['release_date'] = pd.to_datetime(movies['release_date'], errors='coerce')\n",
        "print(movies.dtypes)"
      ]
    },
    {
      "cell_type": "markdown",
      "metadata": {
        "id": "MbxODIuOo3WP"
      },
      "source": [
        "### 5 Find the top 10 movies with the highest budget. Display their titles, budgets, and revenues."
      ]
    },
    {
      "cell_type": "code",
      "execution_count": null,
      "metadata": {
        "id": "rTV1Bkptev9K",
        "colab": {
          "base_uri": "https://localhost:8080/"
        },
        "outputId": "37718679-70c8-4d13-98d4-777d4a831afc"
      },
      "outputs": [
        {
          "output_type": "stream",
          "name": "stdout",
          "text": [
            "                                          title     budget     revenue\n",
            "17  Pirates of the Caribbean: On Stranger Tides  380000000  1045713802\n",
            "1      Pirates of the Caribbean: At World's End  300000000   961000000\n",
            "7                       Avengers: Age of Ultron  280000000  1405403694\n",
            "10                             Superman Returns  270000000   391081192\n",
            "4                                   John Carter  260000000   284139100\n",
            "6                                       Tangled  260000000   591794936\n",
            "5                                  Spider-Man 3  258000000   890871626\n",
            "13                              The Lone Ranger  255000000    89289910\n",
            "3                         The Dark Knight Rises  250000000  1084939099\n",
            "8        Harry Potter and the Half-Blood Prince  250000000   933959197\n"
          ]
        }
      ],
      "source": [
        "# Your Answetop_10_budget_movies = movies.nlargest(10, 'budget')[['title', 'budget', 'revenue']]\n",
        "top_10_budget_movies = movies.nlargest(10, 'budget')[['title', 'budget', 'revenue']]\n",
        "print(top_10_budget_movies)"
      ]
    },
    {
      "cell_type": "markdown",
      "metadata": {
        "id": "R58JbWgOewDX"
      },
      "source": [
        "### 6  Export the data of movies with a rating above 8.0 and print them in sequenticial order according to names(Only movies name to be printed)."
      ]
    },
    {
      "cell_type": "code",
      "execution_count": null,
      "metadata": {
        "id": "1B0RPeEPYbEN",
        "colab": {
          "base_uri": "https://localhost:8080/"
        },
        "outputId": "b607a6f9-5238-4f4b-a6cb-20e6b80f861b"
      },
      "outputs": [
        {
          "output_type": "stream",
          "name": "stdout",
          "text": [
            "                                 12 Angry Men\n",
            "                           American History X\n",
            "                         Anne of Green Gables\n",
            "                                  City of God\n",
            "                                     Counting\n",
            "                        Dancer, Texas Pop. 81\n",
            "                           Dead Poets Society\n",
            "                                   Fight Club\n",
            "                                 Forrest Gump\n",
            "                                   GoodFellas\n",
            "                             Guten Tag, Ramón\n",
            "                         Howl's Moving Castle\n",
            "                                    Inception\n",
            "                                 Interstellar\n",
            "                               Little Big Top\n",
            "                                   Love Jones\n",
            "                        Me You and Five Bucks\n",
            "                                      Memento\n",
            "                                 Modern Times\n",
            "                  Once Upon a Time in America\n",
            "                 Once Upon a Time in the West\n",
            "              One Flew Over the Cuckoo's Nest\n",
            "                               One Man's Hero\n",
            "                            Princess Mononoke\n",
            "                                       Psycho\n",
            "                                 Pulp Fiction\n",
            "                                         Room\n",
            "                                    Sardaarji\n",
            "                             Schindler's List\n",
            "                                        Se7en\n",
            "                                Seven Samurai\n",
            "                                Spirited Away\n",
            "                                    Star Wars\n",
            "                             Stiff Upper Lips\n",
            "                                The Apartment\n",
            "                              The Dark Knight\n",
            "                      The Empire Strikes Back\n",
            "                                The Godfather\n",
            "                       The Godfather: Part II\n",
            "               The Good, the Bad and the Ugly\n",
            "                               The Green Mile\n",
            "The Lord of the Rings: The Return of the King\n",
            "                        The Prisoner of Zenda\n",
            "                     The Shawshank Redemption\n",
            "                                  The Shining\n",
            "                     The Silence of the Lambs\n",
            "                           The Usual Suspects\n",
            "         The Visual Bible: The Gospel of John\n",
            "                           There Goes My Baby\n",
            "                                     Whiplash\n"
          ]
        }
      ],
      "source": [
        "# Filter movies with a rating above 8.0 and sort them by title\n",
        "good_movies = movies[movies['vote_average'] > 8.0].sort_values(by='title')['title']\n",
        "\n",
        "# Print the names of the movies\n",
        "print(good_movies.to_string(index=False))\n"
      ]
    },
    {
      "cell_type": "markdown",
      "metadata": {
        "id": "C8WfCcd2YbJj"
      },
      "source": [
        "###  7 Calculate the correlation matrix for numerical columns. Which pairs of features have the highest correlation?\n"
      ]
    },
    {
      "cell_type": "code",
      "execution_count": null,
      "metadata": {
        "id": "rrTJxLPIYbMT",
        "colab": {
          "base_uri": "https://localhost:8080/",
          "height": 388
        },
        "outputId": "af05e0cd-871c-4c8c-e5b9-7055bb6d40cd"
      },
      "outputs": [
        {
          "output_type": "error",
          "ename": "ValueError",
          "evalue": "could not convert string to float: '[{\"id\": 28, \"name\": \"Action\"}, {\"id\": 12, \"name\": \"Adventure\"}, {\"id\": 14, \"name\": \"Fantasy\"}, {\"id\": 878, \"name\": \"Science Fiction\"}]'",
          "traceback": [
            "\u001b[0;31m---------------------------------------------------------------------------\u001b[0m",
            "\u001b[0;31mValueError\u001b[0m                                Traceback (most recent call last)",
            "\u001b[0;32m<ipython-input-23-b107841ef4a9>\u001b[0m in \u001b[0;36m<cell line: 2>\u001b[0;34m()\u001b[0m\n\u001b[1;32m      1\u001b[0m \u001b[0;31m# Your Code\u001b[0m\u001b[0;34m\u001b[0m\u001b[0;34m\u001b[0m\u001b[0m\n\u001b[0;32m----> 2\u001b[0;31m \u001b[0mcorrelation_matrix\u001b[0m \u001b[0;34m=\u001b[0m \u001b[0mmovies\u001b[0m\u001b[0;34m.\u001b[0m\u001b[0mcorr\u001b[0m\u001b[0;34m(\u001b[0m\u001b[0;34m)\u001b[0m\u001b[0;34m\u001b[0m\u001b[0;34m\u001b[0m\u001b[0m\n\u001b[0m\u001b[1;32m      3\u001b[0m \u001b[0mhighest_correlation\u001b[0m \u001b[0;34m=\u001b[0m \u001b[0mcorrelation_matrix\u001b[0m\u001b[0;34m.\u001b[0m\u001b[0munstack\u001b[0m\u001b[0;34m(\u001b[0m\u001b[0;34m)\u001b[0m\u001b[0;34m.\u001b[0m\u001b[0msort_values\u001b[0m\u001b[0;34m(\u001b[0m\u001b[0mascending\u001b[0m\u001b[0;34m=\u001b[0m\u001b[0;32mFalse\u001b[0m\u001b[0;34m)\u001b[0m\u001b[0;34m\u001b[0m\u001b[0;34m\u001b[0m\u001b[0m\n\u001b[1;32m      4\u001b[0m \u001b[0mhighest_correlation_pairs\u001b[0m \u001b[0;34m=\u001b[0m \u001b[0mhighest_correlation\u001b[0m\u001b[0;34m[\u001b[0m\u001b[0mhighest_correlation\u001b[0m \u001b[0;34m<\u001b[0m \u001b[0;36m1.0\u001b[0m\u001b[0;34m]\u001b[0m\u001b[0;34m.\u001b[0m\u001b[0mhead\u001b[0m\u001b[0;34m(\u001b[0m\u001b[0;36m1\u001b[0m\u001b[0;34m)\u001b[0m\u001b[0;34m\u001b[0m\u001b[0;34m\u001b[0m\u001b[0m\n\u001b[1;32m      5\u001b[0m \u001b[0mprint\u001b[0m\u001b[0;34m(\u001b[0m\u001b[0mcorrelation_matrix\u001b[0m\u001b[0;34m)\u001b[0m\u001b[0;34m\u001b[0m\u001b[0;34m\u001b[0m\u001b[0m\n",
            "\u001b[0;32m/usr/local/lib/python3.10/dist-packages/pandas/core/frame.py\u001b[0m in \u001b[0;36mcorr\u001b[0;34m(self, method, min_periods, numeric_only)\u001b[0m\n\u001b[1;32m  10052\u001b[0m         \u001b[0mcols\u001b[0m \u001b[0;34m=\u001b[0m \u001b[0mdata\u001b[0m\u001b[0;34m.\u001b[0m\u001b[0mcolumns\u001b[0m\u001b[0;34m\u001b[0m\u001b[0;34m\u001b[0m\u001b[0m\n\u001b[1;32m  10053\u001b[0m         \u001b[0midx\u001b[0m \u001b[0;34m=\u001b[0m \u001b[0mcols\u001b[0m\u001b[0;34m.\u001b[0m\u001b[0mcopy\u001b[0m\u001b[0;34m(\u001b[0m\u001b[0;34m)\u001b[0m\u001b[0;34m\u001b[0m\u001b[0;34m\u001b[0m\u001b[0m\n\u001b[0;32m> 10054\u001b[0;31m         \u001b[0mmat\u001b[0m \u001b[0;34m=\u001b[0m \u001b[0mdata\u001b[0m\u001b[0;34m.\u001b[0m\u001b[0mto_numpy\u001b[0m\u001b[0;34m(\u001b[0m\u001b[0mdtype\u001b[0m\u001b[0;34m=\u001b[0m\u001b[0mfloat\u001b[0m\u001b[0;34m,\u001b[0m \u001b[0mna_value\u001b[0m\u001b[0;34m=\u001b[0m\u001b[0mnp\u001b[0m\u001b[0;34m.\u001b[0m\u001b[0mnan\u001b[0m\u001b[0;34m,\u001b[0m \u001b[0mcopy\u001b[0m\u001b[0;34m=\u001b[0m\u001b[0;32mFalse\u001b[0m\u001b[0;34m)\u001b[0m\u001b[0;34m\u001b[0m\u001b[0;34m\u001b[0m\u001b[0m\n\u001b[0m\u001b[1;32m  10055\u001b[0m \u001b[0;34m\u001b[0m\u001b[0m\n\u001b[1;32m  10056\u001b[0m         \u001b[0;32mif\u001b[0m \u001b[0mmethod\u001b[0m \u001b[0;34m==\u001b[0m \u001b[0;34m\"pearson\"\u001b[0m\u001b[0;34m:\u001b[0m\u001b[0;34m\u001b[0m\u001b[0;34m\u001b[0m\u001b[0m\n",
            "\u001b[0;32m/usr/local/lib/python3.10/dist-packages/pandas/core/frame.py\u001b[0m in \u001b[0;36mto_numpy\u001b[0;34m(self, dtype, copy, na_value)\u001b[0m\n\u001b[1;32m   1836\u001b[0m         \u001b[0;32mif\u001b[0m \u001b[0mdtype\u001b[0m \u001b[0;32mis\u001b[0m \u001b[0;32mnot\u001b[0m \u001b[0;32mNone\u001b[0m\u001b[0;34m:\u001b[0m\u001b[0;34m\u001b[0m\u001b[0;34m\u001b[0m\u001b[0m\n\u001b[1;32m   1837\u001b[0m             \u001b[0mdtype\u001b[0m \u001b[0;34m=\u001b[0m \u001b[0mnp\u001b[0m\u001b[0;34m.\u001b[0m\u001b[0mdtype\u001b[0m\u001b[0;34m(\u001b[0m\u001b[0mdtype\u001b[0m\u001b[0;34m)\u001b[0m\u001b[0;34m\u001b[0m\u001b[0;34m\u001b[0m\u001b[0m\n\u001b[0;32m-> 1838\u001b[0;31m         \u001b[0mresult\u001b[0m \u001b[0;34m=\u001b[0m \u001b[0mself\u001b[0m\u001b[0;34m.\u001b[0m\u001b[0m_mgr\u001b[0m\u001b[0;34m.\u001b[0m\u001b[0mas_array\u001b[0m\u001b[0;34m(\u001b[0m\u001b[0mdtype\u001b[0m\u001b[0;34m=\u001b[0m\u001b[0mdtype\u001b[0m\u001b[0;34m,\u001b[0m \u001b[0mcopy\u001b[0m\u001b[0;34m=\u001b[0m\u001b[0mcopy\u001b[0m\u001b[0;34m,\u001b[0m \u001b[0mna_value\u001b[0m\u001b[0;34m=\u001b[0m\u001b[0mna_value\u001b[0m\u001b[0;34m)\u001b[0m\u001b[0;34m\u001b[0m\u001b[0;34m\u001b[0m\u001b[0m\n\u001b[0m\u001b[1;32m   1839\u001b[0m         \u001b[0;32mif\u001b[0m \u001b[0mresult\u001b[0m\u001b[0;34m.\u001b[0m\u001b[0mdtype\u001b[0m \u001b[0;32mis\u001b[0m \u001b[0;32mnot\u001b[0m \u001b[0mdtype\u001b[0m\u001b[0;34m:\u001b[0m\u001b[0;34m\u001b[0m\u001b[0;34m\u001b[0m\u001b[0m\n\u001b[1;32m   1840\u001b[0m             \u001b[0mresult\u001b[0m \u001b[0;34m=\u001b[0m \u001b[0mnp\u001b[0m\u001b[0;34m.\u001b[0m\u001b[0marray\u001b[0m\u001b[0;34m(\u001b[0m\u001b[0mresult\u001b[0m\u001b[0;34m,\u001b[0m \u001b[0mdtype\u001b[0m\u001b[0;34m=\u001b[0m\u001b[0mdtype\u001b[0m\u001b[0;34m,\u001b[0m \u001b[0mcopy\u001b[0m\u001b[0;34m=\u001b[0m\u001b[0;32mFalse\u001b[0m\u001b[0;34m)\u001b[0m\u001b[0;34m\u001b[0m\u001b[0;34m\u001b[0m\u001b[0m\n",
            "\u001b[0;32m/usr/local/lib/python3.10/dist-packages/pandas/core/internals/managers.py\u001b[0m in \u001b[0;36mas_array\u001b[0;34m(self, dtype, copy, na_value)\u001b[0m\n\u001b[1;32m   1730\u001b[0m                 \u001b[0marr\u001b[0m\u001b[0;34m.\u001b[0m\u001b[0mflags\u001b[0m\u001b[0;34m.\u001b[0m\u001b[0mwriteable\u001b[0m \u001b[0;34m=\u001b[0m \u001b[0;32mFalse\u001b[0m\u001b[0;34m\u001b[0m\u001b[0;34m\u001b[0m\u001b[0m\n\u001b[1;32m   1731\u001b[0m         \u001b[0;32melse\u001b[0m\u001b[0;34m:\u001b[0m\u001b[0;34m\u001b[0m\u001b[0;34m\u001b[0m\u001b[0m\n\u001b[0;32m-> 1732\u001b[0;31m             \u001b[0marr\u001b[0m \u001b[0;34m=\u001b[0m \u001b[0mself\u001b[0m\u001b[0;34m.\u001b[0m\u001b[0m_interleave\u001b[0m\u001b[0;34m(\u001b[0m\u001b[0mdtype\u001b[0m\u001b[0;34m=\u001b[0m\u001b[0mdtype\u001b[0m\u001b[0;34m,\u001b[0m \u001b[0mna_value\u001b[0m\u001b[0;34m=\u001b[0m\u001b[0mna_value\u001b[0m\u001b[0;34m)\u001b[0m\u001b[0;34m\u001b[0m\u001b[0;34m\u001b[0m\u001b[0m\n\u001b[0m\u001b[1;32m   1733\u001b[0m             \u001b[0;31m# The underlying data was copied within _interleave, so no need\u001b[0m\u001b[0;34m\u001b[0m\u001b[0;34m\u001b[0m\u001b[0m\n\u001b[1;32m   1734\u001b[0m             \u001b[0;31m# to further copy if copy=True or setting na_value\u001b[0m\u001b[0;34m\u001b[0m\u001b[0;34m\u001b[0m\u001b[0m\n",
            "\u001b[0;32m/usr/local/lib/python3.10/dist-packages/pandas/core/internals/managers.py\u001b[0m in \u001b[0;36m_interleave\u001b[0;34m(self, dtype, na_value)\u001b[0m\n\u001b[1;32m   1792\u001b[0m             \u001b[0;32melse\u001b[0m\u001b[0;34m:\u001b[0m\u001b[0;34m\u001b[0m\u001b[0;34m\u001b[0m\u001b[0m\n\u001b[1;32m   1793\u001b[0m                 \u001b[0marr\u001b[0m \u001b[0;34m=\u001b[0m \u001b[0mblk\u001b[0m\u001b[0;34m.\u001b[0m\u001b[0mget_values\u001b[0m\u001b[0;34m(\u001b[0m\u001b[0mdtype\u001b[0m\u001b[0;34m)\u001b[0m\u001b[0;34m\u001b[0m\u001b[0;34m\u001b[0m\u001b[0m\n\u001b[0;32m-> 1794\u001b[0;31m             \u001b[0mresult\u001b[0m\u001b[0;34m[\u001b[0m\u001b[0mrl\u001b[0m\u001b[0;34m.\u001b[0m\u001b[0mindexer\u001b[0m\u001b[0;34m]\u001b[0m \u001b[0;34m=\u001b[0m \u001b[0marr\u001b[0m\u001b[0;34m\u001b[0m\u001b[0;34m\u001b[0m\u001b[0m\n\u001b[0m\u001b[1;32m   1795\u001b[0m             \u001b[0mitemmask\u001b[0m\u001b[0;34m[\u001b[0m\u001b[0mrl\u001b[0m\u001b[0;34m.\u001b[0m\u001b[0mindexer\u001b[0m\u001b[0;34m]\u001b[0m \u001b[0;34m=\u001b[0m \u001b[0;36m1\u001b[0m\u001b[0;34m\u001b[0m\u001b[0;34m\u001b[0m\u001b[0m\n\u001b[1;32m   1796\u001b[0m \u001b[0;34m\u001b[0m\u001b[0m\n",
            "\u001b[0;31mValueError\u001b[0m: could not convert string to float: '[{\"id\": 28, \"name\": \"Action\"}, {\"id\": 12, \"name\": \"Adventure\"}, {\"id\": 14, \"name\": \"Fantasy\"}, {\"id\": 878, \"name\": \"Science Fiction\"}]'"
          ]
        }
      ],
      "source": [
        "# Your Code\n",
        "correlation_matrix = movies.corr()\n",
        "highest_correlation = correlation_matrix.unstack().sort_values(ascending=False)\n",
        "highest_correlation_pairs = highest_correlation[highest_correlation < 1.0].head(1)\n",
        "print(correlation_matrix)\n",
        "print(highest_correlation_pairs)"
      ]
    },
    {
      "cell_type": "markdown",
      "metadata": {
        "id": "jeC4kZ5uYbRT"
      },
      "source": [
        "### 8. Identify and fill missing values in the 'runtime' column with the median runtime."
      ]
    },
    {
      "cell_type": "code",
      "execution_count": null,
      "metadata": {
        "id": "XMKpSI5AZ1Wf",
        "colab": {
          "base_uri": "https://localhost:8080/"
        },
        "outputId": "c63571f0-335a-464f-9698-d4395e7a426c"
      },
      "outputs": [
        {
          "output_type": "stream",
          "name": "stdout",
          "text": [
            "0       162.0\n",
            "1       169.0\n",
            "2       148.0\n",
            "3       165.0\n",
            "4       132.0\n",
            "        ...  \n",
            "4798     81.0\n",
            "4799     85.0\n",
            "4800    120.0\n",
            "4801     98.0\n",
            "4802     90.0\n",
            "Name: runtime, Length: 4803, dtype: float64\n"
          ]
        }
      ],
      "source": [
        "# Your Code\n",
        "median_runtime = movies['runtime'].median()\n",
        "movies['runtime'].fillna(median_runtime, inplace=True)\n",
        "print(movies['runtime'])"
      ]
    },
    {
      "cell_type": "markdown",
      "metadata": {
        "id": "RnBlNyTUQs_k"
      },
      "source": [
        "### 9. Identify and remove duplicate rows based on the title and release_date columns."
      ]
    },
    {
      "cell_type": "code",
      "execution_count": null,
      "metadata": {
        "id": "zqhOVjDSZ1Wg",
        "colab": {
          "base_uri": "https://localhost:8080/"
        },
        "outputId": "1fefcdb2-b2d0-4ea2-b9ed-eee2b3406820"
      },
      "outputs": [
        {
          "output_type": "stream",
          "name": "stdout",
          "text": [
            "         budget                                             genres  \\\n",
            "0     237000000  [{\"id\": 28, \"name\": \"Action\"}, {\"id\": 12, \"nam...   \n",
            "1     300000000  [{\"id\": 12, \"name\": \"Adventure\"}, {\"id\": 14, \"...   \n",
            "2     245000000  [{\"id\": 28, \"name\": \"Action\"}, {\"id\": 12, \"nam...   \n",
            "3     250000000  [{\"id\": 28, \"name\": \"Action\"}, {\"id\": 80, \"nam...   \n",
            "4     260000000  [{\"id\": 28, \"name\": \"Action\"}, {\"id\": 12, \"nam...   \n",
            "...         ...                                                ...   \n",
            "4798     220000  [{\"id\": 28, \"name\": \"Action\"}, {\"id\": 80, \"nam...   \n",
            "4799       9000  [{\"id\": 35, \"name\": \"Comedy\"}, {\"id\": 10749, \"...   \n",
            "4800          0  [{\"id\": 35, \"name\": \"Comedy\"}, {\"id\": 18, \"nam...   \n",
            "4801          0                                                 []   \n",
            "4802          0                [{\"id\": 99, \"name\": \"Documentary\"}]   \n",
            "\n",
            "                                               homepage      id  \\\n",
            "0                           http://www.avatarmovie.com/   19995   \n",
            "1          http://disney.go.com/disneypictures/pirates/     285   \n",
            "2           http://www.sonypictures.com/movies/spectre/  206647   \n",
            "3                    http://www.thedarkknightrises.com/   49026   \n",
            "4                  http://movies.disney.com/john-carter   49529   \n",
            "...                                                 ...     ...   \n",
            "4798                                                NaN    9367   \n",
            "4799                                                NaN   72766   \n",
            "4800  http://www.hallmarkchannel.com/signedsealeddel...  231617   \n",
            "4801                        http://shanghaicalling.com/  126186   \n",
            "4802                                                NaN   25975   \n",
            "\n",
            "                                               keywords original_language  \\\n",
            "0     [{\"id\": 1463, \"name\": \"culture clash\"}, {\"id\":...                en   \n",
            "1     [{\"id\": 270, \"name\": \"ocean\"}, {\"id\": 726, \"na...                en   \n",
            "2     [{\"id\": 470, \"name\": \"spy\"}, {\"id\": 818, \"name...                en   \n",
            "3     [{\"id\": 849, \"name\": \"dc comics\"}, {\"id\": 853,...                en   \n",
            "4     [{\"id\": 818, \"name\": \"based on novel\"}, {\"id\":...                en   \n",
            "...                                                 ...               ...   \n",
            "4798  [{\"id\": 5616, \"name\": \"united states\\u2013mexi...                es   \n",
            "4799                                                 []                en   \n",
            "4800  [{\"id\": 248, \"name\": \"date\"}, {\"id\": 699, \"nam...                en   \n",
            "4801                                                 []                en   \n",
            "4802  [{\"id\": 1523, \"name\": \"obsession\"}, {\"id\": 224...                en   \n",
            "\n",
            "                                original_title  \\\n",
            "0                                       Avatar   \n",
            "1     Pirates of the Caribbean: At World's End   \n",
            "2                                      Spectre   \n",
            "3                        The Dark Knight Rises   \n",
            "4                                  John Carter   \n",
            "...                                        ...   \n",
            "4798                               El Mariachi   \n",
            "4799                                 Newlyweds   \n",
            "4800                 Signed, Sealed, Delivered   \n",
            "4801                          Shanghai Calling   \n",
            "4802                         My Date with Drew   \n",
            "\n",
            "                                               overview  popularity  \\\n",
            "0     In the 22nd century, a paraplegic Marine is di...  150.437577   \n",
            "1     Captain Barbossa, long believed to be dead, ha...  139.082615   \n",
            "2     A cryptic message from Bond’s past sends him o...  107.376788   \n",
            "3     Following the death of District Attorney Harve...  112.312950   \n",
            "4     John Carter is a war-weary, former military ca...   43.926995   \n",
            "...                                                 ...         ...   \n",
            "4798  El Mariachi just wants to play his guitar and ...   14.269792   \n",
            "4799  A newlywed couple's honeymoon is upended by th...    0.642552   \n",
            "4800  \"Signed, Sealed, Delivered\" introduces a dedic...    1.444476   \n",
            "4801  When ambitious New York attorney Sam is sent t...    0.857008   \n",
            "4802  Ever since the second grade when he first saw ...    1.929883   \n",
            "\n",
            "                                   production_companies  \\\n",
            "0     [{\"name\": \"Ingenious Film Partners\", \"id\": 289...   \n",
            "1     [{\"name\": \"Walt Disney Pictures\", \"id\": 2}, {\"...   \n",
            "2     [{\"name\": \"Columbia Pictures\", \"id\": 5}, {\"nam...   \n",
            "3     [{\"name\": \"Legendary Pictures\", \"id\": 923}, {\"...   \n",
            "4           [{\"name\": \"Walt Disney Pictures\", \"id\": 2}]   \n",
            "...                                                 ...   \n",
            "4798           [{\"name\": \"Columbia Pictures\", \"id\": 5}]   \n",
            "4799                                                 []   \n",
            "4800  [{\"name\": \"Front Street Pictures\", \"id\": 3958}...   \n",
            "4801                                                 []   \n",
            "4802  [{\"name\": \"rusty bear entertainment\", \"id\": 87...   \n",
            "\n",
            "                                   production_countries release_date  \\\n",
            "0     [{\"iso_3166_1\": \"US\", \"name\": \"United States o...   2009-12-10   \n",
            "1     [{\"iso_3166_1\": \"US\", \"name\": \"United States o...   2007-05-19   \n",
            "2     [{\"iso_3166_1\": \"GB\", \"name\": \"United Kingdom\"...   2015-10-26   \n",
            "3     [{\"iso_3166_1\": \"US\", \"name\": \"United States o...   2012-07-16   \n",
            "4     [{\"iso_3166_1\": \"US\", \"name\": \"United States o...   2012-03-07   \n",
            "...                                                 ...          ...   \n",
            "4798  [{\"iso_3166_1\": \"MX\", \"name\": \"Mexico\"}, {\"iso...   1992-09-04   \n",
            "4799                                                 []   2011-12-26   \n",
            "4800  [{\"iso_3166_1\": \"US\", \"name\": \"United States o...   2013-10-13   \n",
            "4801  [{\"iso_3166_1\": \"US\", \"name\": \"United States o...   2012-05-03   \n",
            "4802  [{\"iso_3166_1\": \"US\", \"name\": \"United States o...   2005-08-05   \n",
            "\n",
            "         revenue  runtime                                   spoken_languages  \\\n",
            "0     2787965087    162.0  [{\"iso_639_1\": \"en\", \"name\": \"English\"}, {\"iso...   \n",
            "1      961000000    169.0           [{\"iso_639_1\": \"en\", \"name\": \"English\"}]   \n",
            "2      880674609    148.0  [{\"iso_639_1\": \"fr\", \"name\": \"Fran\\u00e7ais\"},...   \n",
            "3     1084939099    165.0           [{\"iso_639_1\": \"en\", \"name\": \"English\"}]   \n",
            "4      284139100    132.0           [{\"iso_639_1\": \"en\", \"name\": \"English\"}]   \n",
            "...          ...      ...                                                ...   \n",
            "4798     2040920     81.0      [{\"iso_639_1\": \"es\", \"name\": \"Espa\\u00f1ol\"}]   \n",
            "4799           0     85.0                                                 []   \n",
            "4800           0    120.0           [{\"iso_639_1\": \"en\", \"name\": \"English\"}]   \n",
            "4801           0     98.0           [{\"iso_639_1\": \"en\", \"name\": \"English\"}]   \n",
            "4802           0     90.0           [{\"iso_639_1\": \"en\", \"name\": \"English\"}]   \n",
            "\n",
            "        status                                            tagline  \\\n",
            "0     Released                        Enter the World of Pandora.   \n",
            "1     Released     At the end of the world, the adventure begins.   \n",
            "2     Released                              A Plan No One Escapes   \n",
            "3     Released                                    The Legend Ends   \n",
            "4     Released               Lost in our world, found in another.   \n",
            "...        ...                                                ...   \n",
            "4798  Released  He didn't come looking for trouble, but troubl...   \n",
            "4799  Released  A newlywed couple's honeymoon is upended by th...   \n",
            "4800  Released                                                NaN   \n",
            "4801  Released                           A New Yorker in Shanghai   \n",
            "4802  Released                                                NaN   \n",
            "\n",
            "                                         title  vote_average  vote_count  \n",
            "0                                       Avatar           7.2       11800  \n",
            "1     Pirates of the Caribbean: At World's End           6.9        4500  \n",
            "2                                      Spectre           6.3        4466  \n",
            "3                        The Dark Knight Rises           7.6        9106  \n",
            "4                                  John Carter           6.1        2124  \n",
            "...                                        ...           ...         ...  \n",
            "4798                               El Mariachi           6.6         238  \n",
            "4799                                 Newlyweds           5.9           5  \n",
            "4800                 Signed, Sealed, Delivered           7.0           6  \n",
            "4801                          Shanghai Calling           5.7           7  \n",
            "4802                         My Date with Drew           6.3          16  \n",
            "\n",
            "[4803 rows x 20 columns]\n"
          ]
        }
      ],
      "source": [
        "# Your Code\n",
        "movies_no_duplicates = movies.drop_duplicates(subset=['title', 'release_date'])\n",
        "print(movies_no_duplicates)"
      ]
    },
    {
      "cell_type": "markdown",
      "metadata": {
        "id": "48aZvCxiQtEl"
      },
      "source": [
        "### 10.  Define a function that categorizes movies into 'High Budget' and 'Low Budget' based on whether their budget is above or below the median budget. Apply this function to create a new column budget_category"
      ]
    },
    {
      "cell_type": "code",
      "execution_count": null,
      "metadata": {
        "id": "UjI4mIdoQtHK",
        "colab": {
          "base_uri": "https://localhost:8080/"
        },
        "outputId": "55ea7c5c-0d9a-4378-88d9-aeefaeb02226"
      },
      "outputs": [
        {
          "output_type": "stream",
          "name": "stdout",
          "text": [
            "                                         title     budget budget_category\n",
            "0                                       Avatar  237000000     High Budget\n",
            "1     Pirates of the Caribbean: At World's End  300000000     High Budget\n",
            "2                                      Spectre  245000000     High Budget\n",
            "3                        The Dark Knight Rises  250000000     High Budget\n",
            "4                                  John Carter  260000000     High Budget\n",
            "...                                        ...        ...             ...\n",
            "4798                               El Mariachi     220000      Low Budget\n",
            "4799                                 Newlyweds       9000      Low Budget\n",
            "4800                 Signed, Sealed, Delivered          0      Low Budget\n",
            "4801                          Shanghai Calling          0      Low Budget\n",
            "4802                         My Date with Drew          0      Low Budget\n",
            "\n",
            "[4803 rows x 3 columns]\n"
          ]
        }
      ],
      "source": [
        "# Your Code\n",
        "median_budget = movies['budget'].median()\n",
        "movies['budget_category'] = movies['budget'].apply(lambda x: 'High Budget' if x > median_budget else 'Low Budget')\n",
        "print(movies[['title', 'budget', 'budget_category']])"
      ]
    },
    {
      "cell_type": "markdown",
      "metadata": {
        "id": "D7_Nra_nQtVB"
      },
      "source": [
        "### 11 Merge the columns 'original_title', 'release_date', and 'popularity' into a single column named 'movie_info'. Then, display only the 'movie_info' column."
      ]
    },
    {
      "cell_type": "code",
      "execution_count": null,
      "metadata": {
        "id": "W_rVor4bQtYE",
        "colab": {
          "base_uri": "https://localhost:8080/"
        },
        "outputId": "5fa9c566-b128-4f4d-dbb9-9a425d2632ea"
      },
      "outputs": [
        {
          "output_type": "stream",
          "name": "stdout",
          "text": [
            "0                          Avatar, 2009-12-10, 150.437577\n",
            "1       Pirates of the Caribbean: At World's End, 2007...\n",
            "2                         Spectre, 2015-10-26, 107.376788\n",
            "3            The Dark Knight Rises, 2012-07-16, 112.31295\n",
            "4                      John Carter, 2012-03-07, 43.926995\n",
            "                              ...                        \n",
            "4798                   El Mariachi, 1992-09-04, 14.269792\n",
            "4799                      Newlyweds, 2011-12-26, 0.642552\n",
            "4800      Signed, Sealed, Delivered, 2013-10-13, 1.444476\n",
            "4801               Shanghai Calling, 2012-05-03, 0.857008\n",
            "4802              My Date with Drew, 2005-08-05, 1.929883\n",
            "Name: movie_info, Length: 4803, dtype: object\n"
          ]
        }
      ],
      "source": [
        "# Your Code\n",
        "movies['movie_info'] = movies['original_title'] + ', ' + movies['release_date'].astype(str) + ', ' + movies['popularity'].astype(str)\n",
        "print(movies['movie_info'])"
      ]
    },
    {
      "cell_type": "markdown",
      "metadata": {
        "id": "VSkQE-9jQtcv"
      },
      "source": []
    },
    {
      "cell_type": "markdown",
      "metadata": {
        "id": "f7PTUncJQtfX"
      },
      "source": []
    },
    {
      "cell_type": "markdown",
      "metadata": {
        "id": "6qd1Of-AQtiO"
      },
      "source": []
    }
  ],
  "metadata": {
    "colab": {
      "provenance": []
    },
    "kernelspec": {
      "display_name": "Python 3 (ipykernel)",
      "language": "python",
      "name": "python3"
    },
    "language_info": {
      "codemirror_mode": {
        "name": "ipython",
        "version": 3
      },
      "file_extension": ".py",
      "mimetype": "text/x-python",
      "name": "python",
      "nbconvert_exporter": "python",
      "pygments_lexer": "ipython3",
      "version": "3.11.4"
    }
  },
  "nbformat": 4,
  "nbformat_minor": 0
}