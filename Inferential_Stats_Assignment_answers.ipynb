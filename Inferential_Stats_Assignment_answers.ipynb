{
  "cells": [
    {
      "cell_type": "markdown",
      "id": "d428a3a3",
      "metadata": {
        "id": "d428a3a3"
      },
      "source": [
        "## Question 1: Z-Test"
      ]
    },
    {
      "cell_type": "markdown",
      "id": "ffdf7431",
      "metadata": {
        "id": "ffdf7431"
      },
      "source": [
        "Based on the Z-test example given in the document, answer the following:\n"
      ]
    },
    {
      "cell_type": "markdown",
      "id": "dc944957",
      "metadata": {
        "id": "dc944957"
      },
      "source": [
        "Objective: Write a Python program to perform a Z-test to determine if a sample mean is significantly\n",
        "different from a population mean."
      ]
    },
    {
      "cell_type": "markdown",
      "id": "878b5cda",
      "metadata": {
        "id": "878b5cda"
      },
      "source": [
        "Scenario:\n",
        "The average test score of students in a large population is 75 with a standard deviation of 10. A\n",
        "teacher claims that the students in her class have a higher average score. A sample of 40 students\n",
        "from her class has an average score of 78.\n"
      ]
    },
    {
      "cell_type": "markdown",
      "id": "4cdfbcd0",
      "metadata": {
        "id": "4cdfbcd0"
      },
      "source": [
        "Tasks:\n",
        "1. Calculate the Z-score for the sample.\n",
        "2. Determine the p-value.\n",
        "3. Decide whether to reject the null hypothesis at a significance level of 0.05.\n"
      ]
    },
    {
      "cell_type": "code",
      "execution_count": null,
      "id": "b9160be5",
      "metadata": {
        "id": "b9160be5"
      },
      "outputs": [],
      "source": [
        "#write your coc\\de"
      ]
    },
    {
      "cell_type": "code",
      "execution_count": 4,
      "id": "a003eb57",
      "metadata": {
        "colab": {
          "base_uri": "https://localhost:8080/"
        },
        "id": "a003eb57",
        "outputId": "e3278d16-42dd-40de-9f5f-750b358240dd"
      },
      "outputs": [
        {
          "output_type": "execute_result",
          "data": {
            "text/plain": [
              "(1.8973665961010278, 0.028889785561798553, True)"
            ]
          },
          "metadata": {},
          "execution_count": 4
        }
      ],
      "source": [
        "import scipy.stats as stats\n",
        "import numpy as np\n",
        "\n",
        "population_mean = 75\n",
        "population_std = 10\n",
        "sample_size = 40\n",
        "sample_mean = 78\n",
        "\n",
        "# 1. Calculate the Z-score for the sample.\n",
        "z_score = (sample_mean - population_mean) / (population_std / np.sqrt(sample_size))\n",
        "\n",
        "# 2. Determine the p-value.\n",
        "p_value = 1 - stats.norm.cdf(z_score)\n",
        "\n",
        "# 3. Decide whether to reject the null hypothesis at a significance level of 0.05.\n",
        "reject_null = p_value < 0.05\n",
        "\n",
        "z_score, p_value, reject_null\n"
      ]
    },
    {
      "cell_type": "markdown",
      "id": "5135bbc2",
      "metadata": {
        "id": "5135bbc2"
      },
      "source": [
        "## Question 2: T-Test"
      ]
    },
    {
      "cell_type": "markdown",
      "id": "8b61e52b",
      "metadata": {
        "id": "8b61e52b"
      },
      "source": [
        "Objective: Write a Python program to perform a one-sample t-test to determine if a sample mean is\n",
        "significantly different from a known value"
      ]
    },
    {
      "cell_type": "markdown",
      "id": "760920ae",
      "metadata": {
        "id": "760920ae"
      },
      "source": [
        "Scenario: The average score for a previous teaching method was 70. After applying a new teaching\n",
        "method, a sample of 20 students had an average score of 74 with a standard deviation of 8.\n"
      ]
    },
    {
      "cell_type": "markdown",
      "id": "8c721352",
      "metadata": {
        "id": "8c721352"
      },
      "source": [
        "Tasks:\n",
        "1. Calculate the t-statistic for the sample.\n",
        "2. Determine the p-value.\n",
        "3. Decide whether to reject the null hypothesis at a significance level of 0.05.\n"
      ]
    },
    {
      "cell_type": "code",
      "execution_count": null,
      "id": "e72c1ee0",
      "metadata": {
        "id": "e72c1ee0"
      },
      "outputs": [],
      "source": [
        "#write your code"
      ]
    },
    {
      "cell_type": "code",
      "execution_count": 6,
      "id": "7e7ecf5e",
      "metadata": {
        "colab": {
          "base_uri": "https://localhost:8080/"
        },
        "id": "7e7ecf5e",
        "outputId": "55433331-0937-4f55-de0b-d15dd9c8e0b1"
      },
      "outputs": [
        {
          "output_type": "execute_result",
          "data": {
            "text/plain": [
              "(2.23606797749979, 0.01877027477426252, True)"
            ]
          },
          "metadata": {},
          "execution_count": 6
        }
      ],
      "source": [
        "known_value = 70\n",
        "sample_size = 20\n",
        "sample_mean = 74\n",
        "sample_std = 8\n",
        "\n",
        "# 1. Calculate the t-statistic for the sample.\n",
        "t_statistic = (sample_mean - known_value) / (sample_std / np.sqrt(sample_size))\n",
        "\n",
        "# 2. Determine the p-value.\n",
        "p_value = 1 - stats.t.cdf(t_statistic, df=sample_size-1)\n",
        "\n",
        "# 3. Decide whether to reject the null hypothesis at a significance level of 0.05.\n",
        "reject_null = p_value < 0.05\n",
        "\n",
        "t_statistic, p_value, reject_null\n"
      ]
    },
    {
      "cell_type": "markdown",
      "id": "b29f4fca",
      "metadata": {
        "id": "b29f4fca"
      },
      "source": [
        "## Question 3: Confidence Interval\n"
      ]
    },
    {
      "cell_type": "markdown",
      "id": "d0c12d48",
      "metadata": {
        "id": "d0c12d48"
      },
      "source": [
        "Objective:\n",
        "Write a Python program to calculate the 95% confidence interval for the mean of a given dataset"
      ]
    },
    {
      "cell_type": "markdown",
      "id": "9659696a",
      "metadata": {
        "id": "9659696a"
      },
      "source": [
        "Scenario:\n",
        "You have collected sample data representing the number of hours studied per week by a group of\n",
        "students: [12, 15, 14, 10, 13, 15, 14, 16, 15, 17].\n"
      ]
    },
    {
      "cell_type": "markdown",
      "id": "7c09bc1f",
      "metadata": {
        "id": "7c09bc1f"
      },
      "source": [
        "Tasks:\n",
        "1) Calculate the mean and standard error of the sample.\n",
        "2) Determine the 95% confidence interval for the mean."
      ]
    },
    {
      "cell_type": "code",
      "execution_count": null,
      "id": "160313fd",
      "metadata": {
        "id": "160313fd"
      },
      "outputs": [],
      "source": [
        "#write your code"
      ]
    },
    {
      "cell_type": "code",
      "execution_count": 7,
      "id": "2d70bc98",
      "metadata": {
        "colab": {
          "base_uri": "https://localhost:8080/"
        },
        "id": "2d70bc98",
        "outputId": "5c6b261d-914e-4586-f759-9c7ae9138964"
      },
      "outputs": [
        {
          "output_type": "execute_result",
          "data": {
            "text/plain": [
              "(14.1, 0.6403124237432849, (12.651512664237083, 15.548487335762916))"
            ]
          },
          "metadata": {},
          "execution_count": 7
        }
      ],
      "source": [
        "df = [12, 15, 14, 10, 13, 15, 14, 16, 15, 17]\n",
        "\n",
        "# 1. Calculate the sample mean of the sample\n",
        "sample_mean = np.mean(df)\n",
        "\n",
        "# 1. Calculate the standard error of the sample\n",
        "standard_error = stats.sem(df)\n",
        "\n",
        "# 2. Determine the 95% confidence interval for the mean\n",
        "confidence_interval = stats.t.interval(0.95, len(df)-1, loc=sample_mean, scale=standard_error)\n",
        "\n",
        "sample_mean, standard_error, confidence_interval\n"
      ]
    },
    {
      "cell_type": "markdown",
      "id": "db21e510",
      "metadata": {
        "id": "db21e510"
      },
      "source": [
        "## Question4 : Interquartile Range and Outliers"
      ]
    },
    {
      "cell_type": "markdown",
      "id": "a6c37967",
      "metadata": {
        "id": "a6c37967"
      },
      "source": [
        "Objective:\n",
        "Write a Python program to calculate the Interquartile Range (IQR) and identify outliers in a given dataset. Visualize the data using a boxplot."
      ]
    },
    {
      "cell_type": "markdown",
      "id": "d2edf5cf",
      "metadata": {
        "id": "d2edf5cf"
      },
      "source": [
        "Scenario:\n",
        "You have collected sample data representing the number of hours studied per week by a group of students: [12, 15, 14, 10, 13, 15, 14, 16, 15, 17,100]."
      ]
    },
    {
      "cell_type": "markdown",
      "id": "eb2db367",
      "metadata": {
        "id": "eb2db367"
      },
      "source": [
        "Tasks:\n",
        "1) Calculate the Interquartile Range (IQR) of the sample.\n",
        "2) Identify the outliers in the dataset and Visualize dataset using boxplot.\n"
      ]
    },
    {
      "cell_type": "code",
      "execution_count": null,
      "id": "2e673eb1",
      "metadata": {
        "id": "2e673eb1"
      },
      "outputs": [],
      "source": [
        "#write your code"
      ]
    },
    {
      "cell_type": "code",
      "execution_count": 10,
      "id": "ac252e5d",
      "metadata": {
        "colab": {
          "base_uri": "https://localhost:8080/",
          "height": 452
        },
        "id": "ac252e5d",
        "outputId": "2aaf9dae-764d-48c9-88a3-63962cfc975c"
      },
      "outputs": [
        {
          "output_type": "display_data",
          "data": {
            "text/plain": [
              "<Figure size 640x480 with 1 Axes>"
            ],
            "image/png": "[encoded data removed]"
          },
          "metadata": {}
        }
      ],
      "source": [
        "import matplotlib.pyplot as plt\n",
        "\n",
        "df = [12, 15, 14, 10, 13, 15, 14, 16, 15, 17, 100]\n",
        "\n",
        "# Calculate Q1 and Q3\n",
        "q1 = np.percentile(df, 25)\n",
        "q3 = np.percentile(df, 75)\n",
        "\n",
        "# 1. Calculate Interquartile Range (IQR) of the sample.\n",
        "iqr = q3 - q1\n",
        "\n",
        "# 2. Identify the outliers in the dataset and Visualize dataset using boxplot.\n",
        "lower_bound = q1 - 1.5 * iqr\n",
        "upper_bound = q3 + 1.5 * iqr\n",
        "outliers = [x for x in df if x < lower_bound or x > upper_bound]\n",
        "\n",
        "# Plot boxplot\n",
        "plt.boxplot(df)\n",
        "plt.title('Hours per Week')\n",
        "plt.ylabel('Hours')\n",
        "plt.show()"
      ]
    },
    {
      "cell_type": "code",
      "source": [],
      "metadata": {
        "id": "H7aneZdLxMDs"
      },
      "id": "H7aneZdLxMDs",
      "execution_count": null,
      "outputs": []
    }
  ],
  "metadata": {
    "kernelspec": {
      "display_name": "Python 3 (ipykernel)",
      "language": "python",
      "name": "python3"
    },
    "language_info": {
      "codemirror_mode": {
        "name": "ipython",
        "version": 3
      },
      "file_extension": ".py",
      "mimetype": "text/x-python",
      "name": "python",
      "nbconvert_exporter": "python",
      "pygments_lexer": "ipython3",
      "version": "3.11.4"
    },
    "colab": {
      "provenance": []
    }
  },
  "nbformat": 4,
  "nbformat_minor": 5
}