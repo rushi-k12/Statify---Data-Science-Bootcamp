{
  "cells": [
    {
      "cell_type": "markdown",
      "id": "c40b5ad0",
      "metadata": {
        "id": "c40b5ad0"
      },
      "source": [
        "# HERE IS OUR PROGRAMMING EXERCISE FOR BASIC PYTHON"
      ]
    },
    {
      "cell_type": "markdown",
      "id": "2c41c0a1",
      "metadata": {
        "id": "2c41c0a1"
      },
      "source": [
        "Write a Python function that calculates the sum of numbers in an array, but excludes any numbers that appear between a 6 and the next 9 (inclusive).\n",
        "\n",
        "For example, given the array [1, 3, 6, 7, 9, 2, 4], the function should return 10 because 6, 7, 9 are excluded from the sum."
      ]
    },
    {
      "cell_type": "code",
      "execution_count": 9,
      "id": "11b7ef6b",
      "metadata": {
        "id": "11b7ef6b"
      },
      "outputs": [],
      "source": [
        "def sum(arr):\n",
        "    total_sum = 0\n",
        "    skip = False\n",
        "\n",
        "    for num in arr:\n",
        "        if num == 6:\n",
        "            skip = True\n",
        "        if not skip:\n",
        "            total_sum += num\n",
        "        if num == 9 and skip:\n",
        "            skip = False\n",
        "\n",
        "    return total_sum"
      ]
    },
    {
      "cell_type": "code",
      "execution_count": 10,
      "id": "6fdb1af7",
      "metadata": {
        "colab": {
          "base_uri": "https://localhost:8080/"
        },
        "id": "6fdb1af7",
        "outputId": "44f48137-0474-4ea5-bb23-efaf5ae1c02f"
      },
      "outputs": [
        {
          "output_type": "execute_result",
          "data": {
            "text/plain": [
              "7"
            ]
          },
          "metadata": {},
          "execution_count": 10
        }
      ],
      "source": [
        "sum([6, 1, 2, 9, 3, 4])\n",
        "\n",
        "# Expected output : 7"
      ]
    },
    {
      "cell_type": "code",
      "execution_count": 11,
      "id": "1d69c9d8",
      "metadata": {
        "colab": {
          "base_uri": "https://localhost:8080/"
        },
        "id": "1d69c9d8",
        "outputId": "d5bfe5f3-be96-4efc-c05d-b0b9f25317b2"
      },
      "outputs": [
        {
          "output_type": "execute_result",
          "data": {
            "text/plain": [
              "12"
            ]
          },
          "metadata": {},
          "execution_count": 11
        }
      ],
      "source": [
        "sum([1, 6, 2, 3, 9, 4, 6, 5, 9, 7])\n",
        "\n",
        "# Expected output : 8"
      ]
    },
    {
      "cell_type": "code",
      "execution_count": 12,
      "id": "e57c90d8",
      "metadata": {
        "colab": {
          "base_uri": "https://localhost:8080/"
        },
        "id": "e57c90d8",
        "outputId": "90b1930c-d4f9-4ea0-8f15-c568f1c2321d"
      },
      "outputs": [
        {
          "output_type": "execute_result",
          "data": {
            "text/plain": [
              "6"
            ]
          },
          "metadata": {},
          "execution_count": 12
        }
      ],
      "source": [
        "sum([1, 2, 3])\n",
        "\n",
        "# Expected output : 6"
      ]
    },
    {
      "cell_type": "code",
      "execution_count": 12,
      "id": "d72c1706",
      "metadata": {
        "id": "d72c1706"
      },
      "outputs": [],
      "source": []
    },
    {
      "cell_type": "markdown",
      "id": "a1cfc60e",
      "metadata": {
        "id": "a1cfc60e"
      },
      "source": [
        "Write a Python function that checks whether a word or phrase is palindrome or not.\n",
        "\n",
        "Note : A palindrome is word, phrase, or sequence that reads the same backward as forward, e.g. madam, kayak"
      ]
    },
    {
      "cell_type": "code",
      "execution_count": 13,
      "id": "82eb7103",
      "metadata": {
        "id": "82eb7103"
      },
      "outputs": [],
      "source": [
        "def palindrome(s):\n",
        "    cleaned = ''.join(char.lower() for char in s if char.isalnum())\n",
        "    return cleaned == cleaned[::-1]\n",
        "\n"
      ]
    },
    {
      "cell_type": "code",
      "execution_count": 14,
      "id": "597a878c",
      "metadata": {
        "colab": {
          "base_uri": "https://localhost:8080/"
        },
        "id": "597a878c",
        "outputId": "e364c5c3-1aa9-42fd-c593-d7801c1c35dc"
      },
      "outputs": [
        {
          "output_type": "execute_result",
          "data": {
            "text/plain": [
              "True"
            ]
          },
          "metadata": {},
          "execution_count": 14
        }
      ],
      "source": [
        "palindrome('nurses run')\n",
        "\n",
        "# Expected output : True"
      ]
    },
    {
      "cell_type": "code",
      "execution_count": 15,
      "id": "02faa61d",
      "metadata": {
        "colab": {
          "base_uri": "https://localhost:8080/"
        },
        "id": "02faa61d",
        "outputId": "0a06b866-e545-46f7-e685-22a781fc0c00"
      },
      "outputs": [
        {
          "output_type": "execute_result",
          "data": {
            "text/plain": [
              "True"
            ]
          },
          "metadata": {},
          "execution_count": 15
        }
      ],
      "source": [
        "palindrome('madam')\n",
        "\n",
        "# Expected output : True"
      ]
    },
    {
      "cell_type": "code",
      "execution_count": null,
      "id": "f5569686",
      "metadata": {
        "id": "f5569686"
      },
      "outputs": [],
      "source": []
    },
    {
      "cell_type": "markdown",
      "id": "07a569be",
      "metadata": {
        "id": "07a569be"
      },
      "source": [
        "Write a Python function to check whether a atring is pangram or not. (Assume the string passed in does not have any punctuation)\n",
        "\n",
        "Note : Pangrams are words or sentences containing every letter of the alphabet at least once.\n",
        "For example : \"The quick brown fox jumps over the lazy dogs\""
      ]
    },
    {
      "cell_type": "code",
      "execution_count": 16,
      "id": "b1d9245e",
      "metadata": {
        "id": "b1d9245e"
      },
      "outputs": [],
      "source": [
        "def ispangram(s):\n",
        "    alphabet = set('abcdefghijklmnopqrstuvwxyz')\n",
        "    letters_in_s = set(s.lower())\n",
        "    return alphabet.issubset(letters_in_s)"
      ]
    },
    {
      "cell_type": "code",
      "execution_count": 17,
      "id": "c854e8b6",
      "metadata": {
        "colab": {
          "base_uri": "https://localhost:8080/"
        },
        "id": "c854e8b6",
        "outputId": "d4626f99-873d-4cb3-8dea-e100a7447fb2"
      },
      "outputs": [
        {
          "output_type": "execute_result",
          "data": {
            "text/plain": [
              "True"
            ]
          },
          "metadata": {},
          "execution_count": 17
        }
      ],
      "source": [
        "ispangram(\"The quick brown fox jumps over the lazy dogs\")\n",
        "\n",
        "# Expected output : True"
      ]
    },
    {
      "cell_type": "code",
      "execution_count": null,
      "id": "3088f5f6",
      "metadata": {
        "id": "3088f5f6"
      },
      "outputs": [],
      "source": []
    },
    {
      "cell_type": "markdown",
      "id": "ad310d92",
      "metadata": {
        "id": "ad310d92"
      },
      "source": [
        "Extract elements from index 2 to 5 in my_list using slicing method\n",
        "\n",
        "*   List item\n",
        "*   List item\n",
        "\n"
      ]
    },
    {
      "cell_type": "code",
      "execution_count": 18,
      "id": "bcc9d346",
      "metadata": {
        "colab": {
          "base_uri": "https://localhost:8080/"
        },
        "id": "bcc9d346",
        "outputId": "602b50a1-8cd6-4f13-a7eb-4ec9c448e3fb"
      },
      "outputs": [
        {
          "output_type": "stream",
          "name": "stdout",
          "text": [
            "[3, 4, 5, 6]\n"
          ]
        }
      ],
      "source": [
        "my_list = [1, 2, 3, 4, 5, 6, 7, 8, 9, 10]\n",
        "\n",
        "# write your code here8\n",
        "sliced_list = my_list[2:6]\n",
        "\n",
        "print(sliced_list)\n",
        "# Expected output = [3, 4, 5, 6]"
      ]
    },
    {
      "cell_type": "code",
      "execution_count": null,
      "id": "a3f1d330",
      "metadata": {
        "id": "a3f1d330"
      },
      "outputs": [],
      "source": []
    },
    {
      "cell_type": "markdown",
      "id": "c7bcf695",
      "metadata": {
        "id": "c7bcf695"
      },
      "source": [
        ":Extract every 2nd element from index 1 to 10 in my_list using slicing method"
      ]
    },
    {
      "cell_type": "code",
      "execution_count": 19,
      "id": "7ad53803",
      "metadata": {
        "colab": {
          "base_uri": "https://localhost:8080/"
        },
        "id": "7ad53803",
        "outputId": "5a1a9014-25b9-4af2-f7b9-82548838eda8"
      },
      "outputs": [
        {
          "output_type": "stream",
          "name": "stdout",
          "text": [
            "[1, 3, 5, 7, 9]\n"
          ]
        }
      ],
      "source": [
        "my_list = list(range(20))  # [0,1,2,3,4,5,6,7,8,9,10,11,12,13,14,15,16,17,18,19]\n",
        "\n",
        "# write your code here\n",
        "sliced_list = my_list[1:10:2]\n",
        "\n",
        "print(sliced_list)\n",
        "# Expected output : [1, 3, 5, 7, 9]"
      ]
    },
    {
      "cell_type": "code",
      "execution_count": null,
      "id": "3d1bc02e",
      "metadata": {
        "id": "3d1bc02e"
      },
      "outputs": [],
      "source": []
    },
    {
      "cell_type": "markdown",
      "id": "ce2ac70b",
      "metadata": {
        "id": "ce2ac70b"
      },
      "source": [
        "Reverse my_list using slicing method"
      ]
    },
    {
      "cell_type": "code",
      "execution_count": 20,
      "id": "8b85b6d3",
      "metadata": {
        "colab": {
          "base_uri": "https://localhost:8080/"
        },
        "id": "8b85b6d3",
        "outputId": "0a3ef67e-413c-409c-f10b-991ff8dca8e6"
      },
      "outputs": [
        {
          "output_type": "stream",
          "name": "stdout",
          "text": [
            "[50, 40, 30, 20, 10]\n"
          ]
        }
      ],
      "source": [
        "my_list = [10, 20, 30, 40, 50]\n",
        "\n",
        "# write your code here\n",
        "sliced_list = my_list[::-1]\n",
        "\n",
        "print(sliced_list)\n",
        " # Expected output : [50,40,30,20,10]"
      ]
    },
    {
      "cell_type": "code",
      "execution_count": null,
      "id": "8cbac423",
      "metadata": {
        "id": "8cbac423"
      },
      "outputs": [],
      "source": []
    },
    {
      "cell_type": "markdown",
      "id": "f8ff94cb",
      "metadata": {
        "id": "f8ff94cb"
      },
      "source": [
        "Extract the second element of the second list in nested_list using slicing method"
      ]
    },
    {
      "cell_type": "code",
      "execution_count": 21,
      "id": "8d1ab954",
      "metadata": {
        "colab": {
          "base_uri": "https://localhost:8080/"
        },
        "id": "8d1ab954",
        "outputId": "5fd423ee-ef76-424a-8a9d-28b01812ab21"
      },
      "outputs": [
        {
          "output_type": "stream",
          "name": "stdout",
          "text": [
            "5\n"
          ]
        }
      ],
      "source": [
        "nested_list = [[1, 2, 3], [4, 5, 6], [7, 8, 9]]\n",
        "\n",
        "# write your code here\n",
        "list_ = nested_list[1][1]\n",
        "\n",
        "print(list_)\n",
        "# Expected output : 5"
      ]
    },
    {
      "cell_type": "code",
      "execution_count": null,
      "id": "31aa758a",
      "metadata": {
        "id": "31aa758a"
      },
      "outputs": [],
      "source": []
    },
    {
      "cell_type": "markdown",
      "id": "d4c171d9",
      "metadata": {
        "id": "d4c171d9"
      },
      "source": [
        "Combine elements from 5 to 10 and 15 to 20 from my_list using slicing method"
      ]
    },
    {
      "cell_type": "code",
      "execution_count": 23,
      "id": "eb7fa8cb",
      "metadata": {
        "colab": {
          "base_uri": "https://localhost:8080/"
        },
        "id": "eb7fa8cb",
        "outputId": "25a62b20-e626-4f60-8714-0d46e5f9d6f3"
      },
      "outputs": [
        {
          "output_type": "stream",
          "name": "stdout",
          "text": [
            "[5, 6, 7, 8, 9, 10, 15, 16, 17, 18, 19, 20]\n"
          ]
        }
      ],
      "source": [
        "my_list = list(range(1, 21))      # [1,2,3,4,5,6,7,8,9,10,11,12,13,14,15,16,17,18,19,20]\n",
        "\n",
        "# write your code here\n",
        "list_ = my_list[4:10] + my_list[14:20]\n",
        "\n",
        "print(list_)\n",
        "\n",
        "# Expected output : [5, 6, 7, 8, 9, 10, 15, 16, 17, 18, 19, 20]"
      ]
    },
    {
      "cell_type": "code",
      "execution_count": null,
      "id": "c379b803",
      "metadata": {
        "id": "c379b803"
      },
      "outputs": [],
      "source": []
    },
    {
      "cell_type": "markdown",
      "id": "6e8b2bbb",
      "metadata": {
        "id": "6e8b2bbb"
      },
      "source": [
        "Merge dict2 into dict1"
      ]
    },
    {
      "cell_type": "code",
      "execution_count": 24,
      "id": "f2af7966",
      "metadata": {
        "colab": {
          "base_uri": "https://localhost:8080/"
        },
        "id": "f2af7966",
        "outputId": "e2c80380-e23c-460b-c9a0-3e9b784a2c63"
      },
      "outputs": [
        {
          "output_type": "stream",
          "name": "stdout",
          "text": [
            "{'a': 1, 'b': 3, 'c': 4}\n"
          ]
        }
      ],
      "source": [
        "dict1 = {'a': 1, 'b': 2}\n",
        "dict2 = {'b': 3, 'c': 4}\n",
        "# write your code here\n",
        "dict1.update(dict2)\n",
        "\n",
        "print(dict1)\n",
        "# Expected output : {'a': 1, 'b': 3, 'c': 4}"
      ]
    },
    {
      "cell_type": "code",
      "execution_count": null,
      "id": "a683e3c0",
      "metadata": {
        "id": "a683e3c0"
      },
      "outputs": [],
      "source": []
    },
    {
      "cell_type": "markdown",
      "id": "32626f14",
      "metadata": {
        "id": "32626f14"
      },
      "source": [
        "Sort the dictionary by keys"
      ]
    },
    {
      "cell_type": "code",
      "execution_count": 26,
      "id": "dec904ad",
      "metadata": {
        "id": "dec904ad"
      },
      "outputs": [],
      "source": [
        "my_dict = {'orange': 5, 'banana': 2, 'apple': 8}\n",
        "\n",
        "# Expected output : {'apple': 5, 'banana': 2, 'orange': 8}"
      ]
    },
    {
      "cell_type": "code",
      "execution_count": null,
      "id": "fedae894",
      "metadata": {
        "id": "fedae894"
      },
      "outputs": [],
      "source": []
    },
    {
      "cell_type": "code",
      "execution_count": null,
      "id": "4aab6fe6",
      "metadata": {
        "id": "4aab6fe6"
      },
      "outputs": [],
      "source": []
    },
    {
      "cell_type": "code",
      "execution_count": null,
      "id": "5408bab1",
      "metadata": {
        "id": "5408bab1"
      },
      "outputs": [],
      "source": []
    }
  ],
  "metadata": {
    "kernelspec": {
      "display_name": "Python 3 (ipykernel)",
      "language": "python",
      "name": "python3"
    },
    "language_info": {
      "codemirror_mode": {
        "name": "ipython",
        "version": 3
      },
      "file_extension": ".py",
      "mimetype": "text/x-python",
      "name": "python",
      "nbconvert_exporter": "python",
      "pygments_lexer": "ipython3",
      "version": "3.11.5"
    },
    "colab": {
      "provenance": []
    }
  },
  "nbformat": 4,
  "nbformat_minor": 5
}